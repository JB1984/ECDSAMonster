{
 "cells": [
  {
   "cell_type": "markdown",
   "metadata": {},
   "source": [
    "[slides](https://docs.google.com/presentation/d/19K9nVjuSOCrZGM6lmFeEEarTm2xZwDSiZEIzf-Ywr5o/edit?usp=sharing)\n",
    "\n",
    "[python-ecdsa docs](https://github.com/warner/python-ecdsa)"
   ]
  },
  {
   "cell_type": "markdown",
   "metadata": {},
   "source": [
    "# Signing our First Message with ECDSA"
   ]
  },
  {
   "cell_type": "markdown",
   "metadata": {},
   "source": [
    "# Defining ECDSAMonster\n",
    "\n",
    "* A monster is just a list of transfers, and some other variables for health, damage, and an image. \n",
    "    \n",
    "* The `public_key` in the last transfer is who owns the coin\n",
    "* To transfer the monster append a new transfer. Use the public key of the person you are sending to, and sign it using your private key."
   ]
  },
  {
   "cell_type": "code",
   "execution_count": 66,
   "metadata": {},
   "outputs": [],
   "source": [
    "class Transfer:\n",
    "    \n",
    "    def __init__(self, signature, public_key):\n",
    "        self.signature = signature #Proof from previous owner that they authorize transfer\n",
    "        self.public_key = public_key #New Owner\n",
    "        \n",
    "class ECDSAMonster:\n",
    "    \n",
    "    def __init__(self, transfers, health, damage, image):\n",
    "        self.transfers = transfers\n",
    "        self.health = health\n",
    "        self.damage = damage\n",
    "        self.image = image        \n"
   ]
  },
  {
   "cell_type": "code",
   "execution_count": 67,
   "metadata": {},
   "outputs": [],
   "source": [
    "# The usual suspects ... \n",
    "# SECP256k1 is a detail about the \"magical multiplication\" used under the covers\n",
    "from ecdsa import SigningKey, SECP256k1\n",
    "\n",
    "bank_private_key = SigningKey.generate(curve=SECP256k1)\n",
    "bob_private_key = SigningKey.generate(curve=SECP256k1)\n",
    "alice_private_key = SigningKey.generate(curve=SECP256k1)\n",
    "\n",
    "bank_public_key = bank_private_key.get_verifying_key()\n",
    "bob_public_key = bob_private_key.get_verifying_key()\n",
    "alice_public_key = alice_private_key.get_verifying_key()"
   ]
  },
  {
   "cell_type": "code",
   "execution_count": 68,
   "metadata": {},
   "outputs": [],
   "source": [
    "from utils import serialize\n",
    "import random\n",
    "from PIL import Image, ImageTk\n",
    "\n",
    "def issue(public_key, path_to_image):\n",
    "    \n",
    "    message = serialize(public_key)\n",
    "    \n",
    "    signature = bank_private_key.sign(message)\n",
    "    \n",
    "    transfer = Transfer(\n",
    "        signature = signature,\n",
    "        public_key = public_key\n",
    "    )\n",
    "    \n",
    "    monster = ECDSAMonster([transfer], random.randint(1,10), random.randint(1,10), Image.open(path_to_image))\n",
    "    return monster"
   ]
  },
  {
   "cell_type": "markdown",
   "metadata": {},
   "source": [
    "# Validating the First Transfer"
   ]
  },
  {
   "cell_type": "code",
   "execution_count": 74,
   "metadata": {},
   "outputs": [],
   "source": [
    "def validate(monster):\n",
    "    \n",
    "    transfer = monster.transfers[0]\n",
    "    \n",
    "    message = serialize(transfer.public_key)\n",
    "    \n",
    "    bank_public_key.verify(transfer.signature, message)\n",
    "    "
   ]
  },
  {
   "cell_type": "code",
   "execution_count": 75,
   "metadata": {},
   "outputs": [],
   "source": [
    "alice_monster = issue(alice_public_key, 'godzilla.jpg')\n",
    "\n",
    "validate(alice_monster)"
   ]
  },
  {
   "cell_type": "markdown",
   "metadata": {},
   "source": [
    "# Validating Subsequent Transfers"
   ]
  },
  {
   "cell_type": "code",
   "execution_count": 76,
   "metadata": {},
   "outputs": [],
   "source": [
    "def transfer_message(previous_signature, next_owner_public_key):\n",
    "    return serialize({\n",
    "        \"previous_signature\": previous_signature,\n",
    "        \"next_owner_public_key\": next_owner_public_key\n",
    "    })\n",
    "\n",
    "def validate(monster):\n",
    "    #Check the first transfer\n",
    "    transfer = monster.transfers[0]\n",
    "    message = serialize(transfer.public_key)\n",
    "    bank_public_key.verify(transfer.signature, message)\n",
    "    \n",
    "    #Check the rest of coin.transfers\n",
    "    previous_transfer = monster.transfers[0]\n",
    "    for next_transfer in monster.transfers[1:]:\n",
    "        message = transfer_message(previous_transfer.signature, next_transfer.public_key)\n",
    "        previous_transfer.public_key.verify(\n",
    "            next_transfer.signature,\n",
    "            message,\n",
    "        )\n",
    "        \n",
    "    "
   ]
  },
  {
   "cell_type": "code",
   "execution_count": 77,
   "metadata": {},
   "outputs": [],
   "source": [
    "def get_owner(monster):\n",
    "    database = {\n",
    "        bob_public_key: \"Bob\",\n",
    "        alice_public_key: \"Alice\",\n",
    "        bank_public_key: \"Bank\",\n",
    "    }\n",
    "    \n",
    "    public_key = monster.transfers[-1].public_key\n",
    "    return database[public_key]"
   ]
  },
  {
   "cell_type": "code",
   "execution_count": 79,
   "metadata": {},
   "outputs": [
    {
     "name": "stdout",
     "output_type": "stream",
     "text": [
      "This monster is owned by Alice\n",
      "This monster is owned by Bob\n",
      "This monster is owned by Bank\n"
     ]
    }
   ],
   "source": [
    "monster = issue(alice_public_key, 'godzilla.jpg')\n",
    "\n",
    "print(\"This monster is owned by\", get_owner(monster))\n",
    "\n",
    "message = transfer_message(monster.transfers[-1].signature, bob_public_key)\n",
    "alice_to_bob = Transfer(\n",
    "    signature = alice_private_key.sign(message),\n",
    "    public_key = bob_public_key,\n",
    ")\n",
    "\n",
    "monster.transfers.append(alice_to_bob)\n",
    "\n",
    "print(\"This monster is owned by\", get_owner(monster))\n",
    "\n",
    "\n",
    "message = transfer_message(monster.transfers[-1].signature, bob_public_key)\n",
    "bob_to_bank = Transfer(\n",
    "    signature = bob_private_key.sign(message),\n",
    "    public_key = bank_public_key,\n",
    ")\n",
    "\n",
    "monster.transfers.append(bob_to_bank)\n",
    "\n",
    "print(\"This monster is owned by\", get_owner(monster))"
   ]
  },
  {
   "cell_type": "markdown",
   "metadata": {},
   "source": [
    "# Serialization"
   ]
  },
  {
   "cell_type": "code",
   "execution_count": 80,
   "metadata": {},
   "outputs": [],
   "source": [
    "from utils import to_disk, from_disk"
   ]
  },
  {
   "cell_type": "code",
   "execution_count": 81,
   "metadata": {},
   "outputs": [
    {
     "name": "stdout",
     "output_type": "stream",
     "text": [
      "Does the monsterfile exist on disk? True\n"
     ]
    }
   ],
   "source": [
    "import os\n",
    "\n",
    "filename = \"monster.ecdsacoin\"\n",
    "\n",
    "print(\"Does the monsterfile exist on disk?\", os.path.isfile(filename))"
   ]
  },
  {
   "cell_type": "code",
   "execution_count": 82,
   "metadata": {},
   "outputs": [],
   "source": [
    "monster = issue(alice_public_key, 'godzilla.jpg')\n",
    "\n",
    "to_disk(alice_monster, filename)"
   ]
  },
  {
   "cell_type": "code",
   "execution_count": 83,
   "metadata": {
    "scrolled": true
   },
   "outputs": [
    {
     "name": "stdout",
     "output_type": "stream",
     "text": [
      "Does the monsterfile exist on disk? True\n"
     ]
    }
   ],
   "source": [
    "print(\"Does the monsterfile exist on disk?\", os.path.isfile(filename))"
   ]
  },
  {
   "cell_type": "code",
   "execution_count": 89,
   "metadata": {},
   "outputs": [
    {
     "data": {
      "text/plain": [
       "<__main__.ECDSAMonster at 0x1351cd0>"
      ]
     },
     "execution_count": 89,
     "metadata": {},
     "output_type": "execute_result"
    }
   ],
   "source": [
    "monster1 = from_disk(filename)\n",
    "monster1"
   ]
  },
  {
   "cell_type": "markdown",
   "metadata": {},
   "source": [
    "# Display your monster using basic TKinter"
   ]
  },
  {
   "cell_type": "code",
   "execution_count": 90,
   "metadata": {},
   "outputs": [],
   "source": [
    "import tkinter as tk\n",
    "\n",
    "def display_monster(monster):\n",
    "    root = tk.Tk()\n",
    "    picture1 = monster.image\n",
    "    photo = ImageTk.PhotoImage(picture1)\n",
    "\n",
    "    w1=tk.Label(root, image=photo).pack(side=\"right\")\n",
    "\n",
    "    stats = \"Health: \" + str(monster.health) + \"\\n\\n\\nDamage: \" + str(monster.damage)\n",
    "\n",
    "    w2 = tk.Label(root, \n",
    "                justify = tk.LEFT,\n",
    "                 padx = 10,\n",
    "                 text = stats).pack(side=\"left\")\n",
    "    root.mainloop()"
   ]
  },
  {
   "cell_type": "markdown",
   "metadata": {},
   "source": [
    "# Test it can display image from within monster object"
   ]
  },
  {
   "cell_type": "code",
   "execution_count": 91,
   "metadata": {},
   "outputs": [],
   "source": [
    "monster2 = issue(bob_public_key, 'mothra.jpg')"
   ]
  },
  {
   "cell_type": "code",
   "execution_count": 92,
   "metadata": {},
   "outputs": [],
   "source": [
    "display_monster(monster1)"
   ]
  },
  {
   "cell_type": "code",
   "execution_count": 93,
   "metadata": {},
   "outputs": [],
   "source": [
    "display_monster(monster2)"
   ]
  }
 ],
 "metadata": {
  "kernelspec": {
   "display_name": "Python 3",
   "language": "python",
   "name": "python3"
  },
  "language_info": {
   "codemirror_mode": {
    "name": "ipython",
    "version": 3
   },
   "file_extension": ".py",
   "mimetype": "text/x-python",
   "name": "python",
   "nbconvert_exporter": "python",
   "pygments_lexer": "ipython3",
   "version": "3.7.0"
  }
 },
 "nbformat": 4,
 "nbformat_minor": 2
}
